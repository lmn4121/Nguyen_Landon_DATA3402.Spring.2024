{
 "cells": [
  {
   "cell_type": "markdown",
   "metadata": {},
   "source": [
    "# Lab 5\n"
   ]
  },
  {
   "cell_type": "markdown",
   "metadata": {},
   "source": [
    "Matrix Representation: In this lab you will be creating a simple linear algebra system. In memory, we will represent matrices as nested python lists as we have done in lecture. \n",
    "\n",
    "1. Create a `matrix` class with the following properties:\n",
    "    * It can be initialized in 2 ways:\n",
    "        1. with arguments `n` and `m`, the size of the matrix. A newly instanciated matrix will contain all zeros.\n",
    "        2. with a list of lists of values. Note that since we are using lists of lists to implement matrices, it is possible that not all rows have the same number of columns. Test explicitly that the matrix is properly specified.\n",
    "    * Matrix instances `M` can be indexed with `M[i][j]` and `M[i,j]`.\n",
    "    * Matrix assignment works in 2 ways:\n",
    "        1. If `M_1` and `M_2` are `matrix` instances `M_1=M_2` sets the values of `M_1` to those of `M_2`, if they are the same size. Error otherwise.\n",
    "        2. In example above `M_2` can be a list of lists of correct size.\n"
   ]
  },
  {
   "cell_type": "markdown",
   "metadata": {},
   "source": [
    "2. Add the following methods:\n",
    "    * `shape()`: returns a tuple `(n,m)` of the shape of the matrix.\n",
    "    * `transpose()`: returns a new matrix instance which is the transpose of the matrix.\n",
    "    * `row(n)` and `column(n)`: that return the nth row or column of the matrix M as a new appropriately shaped matrix object.\n",
    "    * `to_list()`: which returns the matrix as a list of lists.\n",
    "    *  `block(n_0,n_1,m_0,m_1)` that returns a smaller matrix located at the n_0 to n_1 columns and m_0 to m_1 rows. \n",
    "    * (Extra credit) Modify `__getitem__` implemented above to support slicing.\n",
    "        "
   ]
  },
  {
   "cell_type": "markdown",
   "metadata": {},
   "source": [
    "3. Write functions that create special matrices (note these are standalone functions, not member functions of your `matrix` class):\n",
    "    * `constant(n,m,c)`: returns a `n` by `m` matrix filled with floats of value `c`.\n",
    "    * `zeros(n,m)` and `ones(n,m)`: return `n` by `m` matrices filled with floats of value `0` and `1`, respectively.\n",
    "    * `eye(n)`: returns the n by n identity matrix."
   ]
  },
  {
   "cell_type": "markdown",
   "metadata": {},
   "source": [
    "4. Add the following member functions to your class. Make sure to appropriately test the dimensions of the matrices to make sure the operations are correct.\n",
    "    * `M.scalarmul(c)`: a matrix that is scalar product $cM$, where every element of $M$ is multiplied by $c$.\n",
    "    * `M.add(N)`: adds two matrices $M$ and $N$. Don’t forget to test that the sizes of the matrices are compatible for this and all other operations.\n",
    "    * `M.sub(N)`: subtracts two matrices $M$ and $N$.\n",
    "    * `M.mat_mult(N)`: returns a matrix that is the matrix product of two matrices $M$ and $N$.\n",
    "    * `M.element_mult(N)`: returns a matrix that is the element-wise product of two matrices $M$ and $N$.\n",
    "    * `M.equals(N)`: returns true/false if $M==N$."
   ]
  },
  {
   "cell_type": "markdown",
   "metadata": {},
   "source": [
    "5. Overload python operators to appropriately use your functions in 4 and allow expressions like:\n",
    "    * 2*M\n",
    "    * M*2\n",
    "    * M+N\n",
    "    * M-N\n",
    "    * M*N\n",
    "    * M==N\n",
    "    * M=N\n"
   ]
  },
  {
   "cell_type": "markdown",
   "metadata": {},
   "source": [
    "6. Demonstrate the basic properties of matrices with your matrix class by creating two 2 by 2 example matrices using your Matrix class and illustrating the following:\n",
    "\n",
    "$$\n",
    "(AB)C=A(BC)\n",
    "$$\n",
    "$$\n",
    "A(B+C)=AB+AC\n",
    "$$\n",
    "$$\n",
    "AB\\neq BA\n",
    "$$\n",
    "$$\n",
    "AI=A\n",
    "$$"
   ]
  },
  {
   "cell_type": "code",
   "execution_count": 1,
   "metadata": {},
   "outputs": [],
   "source": [
    "class Matrix():\n",
    "    def __init__(self,n,m=None):\n",
    "        if m==None:\n",
    "            if all(list(len(x)==len(n[0]) for x in n)): \n",
    "                self.mat=[[n[r][c] for c in range(len(n[0]))] for r in range(len(n))]\n",
    "            else: \n",
    "                print('Error: All rows must have the same length!')\n",
    "        else:\n",
    "            self.mat=[[0]*m for x in range(n)]\n",
    "\n",
    "    def __setattr__(self,name,value):\n",
    "        if 'mat' in self.__dict__.keys():\n",
    "            if len(self.__dict__['mat'])==len(value) and len(self.__dict__['mat'][0])==len(value[0]):\n",
    "                self.__dict__['mat']=value\n",
    "            else:\n",
    "                print('Error: Matrices must have the same shape.')\n",
    "        else:\n",
    "            self.__dict__[name]=value\n",
    "\n",
    "    def shape(self):\n",
    "        return (len(self.mat), len(self.mat[0]))\n",
    "\n",
    "    def transpose(self):\n",
    "        return Matrix(list([self.mat[m][n]for m in range(len(self.mat))]for n in range(len(self.mat[0]))))\n",
    "\n",
    "    def row(self,n):\n",
    "        return Matrix([list(self.mat[n][m]for m in range(len(self.mat[n])))])\n",
    "\n",
    "    def column(self,n):\n",
    "        return Matrix([[self.mat[m][n]]for m in range(len(self.mat))])\n",
    "\n",
    "    def to_list(self):\n",
    "        return self.mat\n",
    "\n",
    "    def block(self,n_0,n_1,m_0,m_1):\n",
    "        return Matrix([list(self.mat[n][m]for m in range(m_0,m_1))for n in range(n_0,n_1)])\n",
    "\n",
    "    def scalarmul(self,c):\n",
    "        return [[self.mat[n][m]*c for m in range(len(self.mat[0]))] for n in range(len(self.mat))]\n",
    "\n",
    "    def add(self,N):\n",
    "        if self.shape()==N.shape(): return Matrix([[self.mat[n][m]+N.mat[n][m]for m in range(len(self.mat[0]))] for n in range(len(self.mat))])\n",
    "        else: raise Error\n",
    "\n",
    "    def sub(self,N):\n",
    "        if self.shape()==N.shape(): return Matrix([[self.mat[n][m]-N.mat[n][m]for m in range(len(self.mat[0]))] for n in range(len(self.mat))]) \n",
    "        else: raise Error\n",
    "\n",
    "    def mat_mult(self,N):\n",
    "        return Matrix([[sum(list(self.mat[n][m]*N.mat[m][c]  for m in range(len(self.mat[0])))) for c in range(len(N.mat[0]))] for n in range(len(self.mat))])\n",
    "\n",
    "    def element_mult(self,N):\n",
    "        if self.shape()==N.shape(): return Matrix([[self.mat[n][m]*N.mat[n][m]for m in range(len(self.mat[0]))] for n in range(len(self.mat))])\n",
    "        else: raise Error\n",
    "\n",
    "    def equals(self,N):\n",
    "        return all([all([self.mat[n][m]==N.mat[n][m]for m in range(len(self.mat[0]))]) for n in range(len(self.mat))])\n",
    "\n",
    "    def __mul__(self,n):\n",
    "        return self.mat_mult(n) if isinstance(n,Matrix) else self.scalarmul(n)\n",
    "    def __rmul__(self,n):\n",
    "        return self.mat_mult(n) if isinstance(n,Matrix) else self.scalarmul(n)\n",
    "\n",
    "    def __add__(self,n):\n",
    "        if isinstance(n,Matrix): return self.add(n)\n",
    "        else: raise TypeError\n",
    "\n",
    "    def __sub__(self,n):\n",
    "        if isinstance(n,Matrix): return self.sub(n)\n",
    "        else: raise TypeError\n",
    "\n",
    "    def __eq__(self,n):\n",
    "        if isinstance(n,Matrix): return self.equals(n)\n",
    "        else: raise TypeError\n",
    "\n",
    "    def __str__(self):\n",
    "        s='['\n",
    "        for n in range(len(self.mat)): s+=f'{self.mat[n]}';  s+='\\n ' if n<len(self.mat)-1 else ''\n",
    "        return s+']'\n",
    "\n",
    "    __repr__=__str__\n",
    "\n",
    "def constant(n,m,c):\n",
    "    return Matrix([[float(c)]*m for x in range(n)])\n",
    "\n",
    "def zeros(n,m):\n",
    "    return Matrix([[0.]*m for x in range(n)])\n",
    "\n",
    "def ones(n,m):\n",
    "    return Matrix([[1.]*m for x in range(n)])\n",
    "\n",
    "def eye(n):\n",
    "    return Matrix([[1 if x==y else 0 for x in range(n)] for y in range(n)])"
   ]
  },
  {
   "cell_type": "code",
   "execution_count": 2,
   "metadata": {},
   "outputs": [],
   "source": [
    "A=Matrix([[1,2],[3,4]])\n",
    "B=Matrix([[5,6],[7,8]])\n",
    "C=Matrix([[9,10],[11,12]])\n",
    "I=eye(2)"
   ]
  },
  {
   "cell_type": "code",
   "execution_count": 23,
   "metadata": {},
   "outputs": [
    {
     "name": "stdout",
     "output_type": "stream",
     "text": [
      "[[1, 2]\n",
      " [3, 4]]\n"
     ]
    },
    {
     "data": {
      "text/plain": [
       "[[1, 3]\n",
       " [2, 4]]"
      ]
     },
     "execution_count": 23,
     "metadata": {},
     "output_type": "execute_result"
    }
   ],
   "source": [
    "# Transpose\n",
    "print(A)\n",
    "A.transpose()"
   ]
  },
  {
   "cell_type": "code",
   "execution_count": 24,
   "metadata": {},
   "outputs": [
    {
     "data": {
      "text/plain": [
       "[[1, 0]\n",
       " [0, 1]]"
      ]
     },
     "execution_count": 24,
     "metadata": {},
     "output_type": "execute_result"
    }
   ],
   "source": [
    "# Identity Matrix\n",
    "I"
   ]
  },
  {
   "cell_type": "code",
   "execution_count": 10,
   "metadata": {},
   "outputs": [
    {
     "data": {
      "text/plain": [
       "(2, 2)"
      ]
     },
     "execution_count": 10,
     "metadata": {},
     "output_type": "execute_result"
    }
   ],
   "source": [
    "A.shape()"
   ]
  },
  {
   "cell_type": "code",
   "execution_count": 12,
   "metadata": {},
   "outputs": [
    {
     "data": {
      "text/plain": [
       "[[1, 2]]"
      ]
     },
     "execution_count": 12,
     "metadata": {},
     "output_type": "execute_result"
    }
   ],
   "source": [
    "A.row(0)"
   ]
  },
  {
   "cell_type": "code",
   "execution_count": 25,
   "metadata": {},
   "outputs": [
    {
     "data": {
      "text/plain": [
       "[[1]\n",
       " [3]]"
      ]
     },
     "execution_count": 25,
     "metadata": {},
     "output_type": "execute_result"
    }
   ],
   "source": [
    "A.column(0)"
   ]
  },
  {
   "cell_type": "code",
   "execution_count": 35,
   "metadata": {},
   "outputs": [
    {
     "data": {
      "text/plain": [
       "[[5, 10], [15, 20]]"
      ]
     },
     "execution_count": 35,
     "metadata": {},
     "output_type": "execute_result"
    }
   ],
   "source": [
    "# Scalarmul\n",
    "A.scalarmul(5)"
   ]
  },
  {
   "cell_type": "code",
   "execution_count": 31,
   "metadata": {},
   "outputs": [
    {
     "data": {
      "text/plain": [
       "[[0.0, 0.0, 0.0]\n",
       " [0.0, 0.0, 0.0]\n",
       " [0.0, 0.0, 0.0]]"
      ]
     },
     "execution_count": 31,
     "metadata": {},
     "output_type": "execute_result"
    }
   ],
   "source": [
    "# Zeros\n",
    "ZERO=zeros(3,3)\n",
    "ZERO"
   ]
  },
  {
   "cell_type": "code",
   "execution_count": 33,
   "metadata": {},
   "outputs": [
    {
     "data": {
      "text/plain": [
       "[[1.0, 1.0]\n",
       " [1.0, 1.0]\n",
       " [1.0, 1.0]\n",
       " [1.0, 1.0]]"
      ]
     },
     "execution_count": 33,
     "metadata": {},
     "output_type": "execute_result"
    }
   ],
   "source": [
    "# Ones\n",
    "ONES=ones(4,2)\n",
    "ONES"
   ]
  },
  {
   "cell_type": "code",
   "execution_count": 34,
   "metadata": {},
   "outputs": [
    {
     "data": {
      "text/plain": [
       "[[5.0, 5.0]\n",
       " [5.0, 5.0]\n",
       " [5.0, 5.0]]"
      ]
     },
     "execution_count": 34,
     "metadata": {},
     "output_type": "execute_result"
    }
   ],
   "source": [
    "# Constant\n",
    "CONSTANT=constant(3,2,5)\n",
    "CONSTANT"
   ]
  },
  {
   "cell_type": "code",
   "execution_count": 13,
   "metadata": {},
   "outputs": [
    {
     "data": {
      "text/plain": [
       "[[1, 2], [3, 4]]"
      ]
     },
     "execution_count": 13,
     "metadata": {},
     "output_type": "execute_result"
    }
   ],
   "source": [
    "A.to_list()"
   ]
  },
  {
   "cell_type": "code",
   "execution_count": 22,
   "metadata": {},
   "outputs": [
    {
     "name": "stdout",
     "output_type": "stream",
     "text": [
      "[[1, 2, 3]\n",
      " [4, 5, 6]\n",
      " [7, 8, 9]]\n"
     ]
    },
    {
     "data": {
      "text/plain": [
       "[[2, 3]\n",
       " [5, 6]]"
      ]
     },
     "execution_count": 22,
     "metadata": {},
     "output_type": "execute_result"
    }
   ],
   "source": [
    "Z=Matrix([[1,2,3],[4,5,6,],[7,8,9]])\n",
    "print(Z)\n",
    "Z.block(0,2,1,3)"
   ]
  },
  {
   "cell_type": "code",
   "execution_count": 4,
   "metadata": {},
   "outputs": [
    {
     "name": "stdout",
     "output_type": "stream",
     "text": [
      "[[413, 454]\n",
      " [937, 1030]]\n",
      "[[413, 454]\n",
      " [937, 1030]] \n",
      "\n"
     ]
    },
    {
     "data": {
      "text/plain": [
       "True"
      ]
     },
     "execution_count": 4,
     "metadata": {},
     "output_type": "execute_result"
    }
   ],
   "source": [
    "print((A*B)*C)\n",
    "print(A*(B*C),'\\n')\n",
    "\n",
    "(A*B)*C == A*(B*C)"
   ]
  },
  {
   "cell_type": "code",
   "execution_count": 36,
   "metadata": {},
   "outputs": [
    {
     "data": {
      "text/plain": [
       "[[19, 22]\n",
       " [43, 50]]"
      ]
     },
     "execution_count": 36,
     "metadata": {},
     "output_type": "execute_result"
    }
   ],
   "source": [
    "A*B"
   ]
  },
  {
   "cell_type": "code",
   "execution_count": 5,
   "metadata": {},
   "outputs": [
    {
     "data": {
      "text/plain": [
       "True"
      ]
     },
     "execution_count": 5,
     "metadata": {},
     "output_type": "execute_result"
    }
   ],
   "source": [
    "A*(B+C) == A*B + A*C"
   ]
  },
  {
   "cell_type": "code",
   "execution_count": 6,
   "metadata": {},
   "outputs": [
    {
     "data": {
      "text/plain": [
       "False"
      ]
     },
     "execution_count": 6,
     "metadata": {},
     "output_type": "execute_result"
    }
   ],
   "source": [
    "A*B == B*A"
   ]
  },
  {
   "cell_type": "code",
   "execution_count": 7,
   "metadata": {},
   "outputs": [
    {
     "data": {
      "text/plain": [
       "True"
      ]
     },
     "execution_count": 7,
     "metadata": {},
     "output_type": "execute_result"
    }
   ],
   "source": [
    "A*I==A"
   ]
  }
 ],
 "metadata": {
  "kernelspec": {
   "display_name": "Python 3 (ipykernel)",
   "language": "python",
   "name": "python3"
  },
  "language_info": {
   "codemirror_mode": {
    "name": "ipython",
    "version": 3
   },
   "file_extension": ".py",
   "mimetype": "text/x-python",
   "name": "python",
   "nbconvert_exporter": "python",
   "pygments_lexer": "ipython3",
   "version": "3.10.12"
  }
 },
 "nbformat": 4,
 "nbformat_minor": 4
}
