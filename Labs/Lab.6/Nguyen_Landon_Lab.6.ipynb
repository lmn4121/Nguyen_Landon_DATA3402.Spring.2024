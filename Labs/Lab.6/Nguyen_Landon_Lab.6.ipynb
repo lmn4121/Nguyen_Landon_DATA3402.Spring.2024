{
 "cells": [
  {
   "cell_type": "markdown",
   "metadata": {},
   "source": [
    "# Lab 6"
   ]
  },
  {
   "cell_type": "markdown",
   "metadata": {},
   "source": [
    "You are tasked with evaluating card counting strategies for black jack. In order to do so, you will use object oriented programming to create a playable casino style black jack game where a computer dealer plays against $n$ computer players and possibily one human player. If you don't know the rules of blackjack or card counting, please google it. \n",
    "\n",
    "A few requirements:\n",
    "* The game should utilize multiple 52-card decks. Typically the game is played with 6 decks.\n",
    "* Players should have chips.\n",
    "* Dealer's actions are predefined by rules of the game (typically hit on 16). \n",
    "* The players should be aware of all shown cards so that they can count cards.\n",
    "* Each player could have a different strategy.\n",
    "* The system should allow you to play large numbers of games, study the outcomes, and compare average winnings per hand rate for different strategies."
   ]
  },
  {
   "cell_type": "markdown",
   "metadata": {},
   "source": [
    "1. Begin by creating a classes to represent cards and decks. The deck should support more than one 52-card set. The deck should allow you to shuffle and draw cards. Include a \"plastic\" card, placed randomly in the deck. Later, when the plastic card is dealt, shuffle the cards before the next deal."
   ]
  },
  {
   "cell_type": "markdown",
   "metadata": {},
   "source": [
    "2. Now design your game on a UML diagram. You may want to create classes to represent, players, a hand, and/or the game. As you work through the lab, update your UML diagram. At the end of the lab, submit your diagram (as pdf file) along with your notebook. "
   ]
  },
  {
   "cell_type": "markdown",
   "metadata": {},
   "source": [
    "3. Begin with implementing the skeleton (ie define data members and methods/functions, but do not code the logic) of the classes in your UML diagram."
   ]
  },
  {
   "cell_type": "markdown",
   "metadata": {},
   "source": [
    "4. Complete the implementation by coding the logic of all functions. For now, just implement the dealer player and human player."
   ]
  },
  {
   "cell_type": "markdown",
   "metadata": {},
   "source": [
    "5.  Test. Demonstrate game play. For example, create a game of several dealer players and show that the game is functional through several rounds."
   ]
  },
  {
   "cell_type": "markdown",
   "metadata": {},
   "source": [
    "6. Implement a new player with the following strategy:\n",
    "\n",
    "    * Assign each card a value: \n",
    "        * Cards 2 to 6 are +1 \n",
    "        * Cards 7 to 9 are 0 \n",
    "        * Cards 10 through Ace are -1\n",
    "    * Compute the sum of the values for all cards seen so far.\n",
    "    * Hit if sum is very negative, stay if sum is very positive. Select a threshold for hit/stay, e.g. 0 or -2.  "
   ]
  },
  {
   "cell_type": "markdown",
   "metadata": {},
   "source": [
    "7. Create a test scenario where one player, using the above strategy, is playing with a dealer and 3 other players that follow the dealer's strategy. Each player starts with same number of chips. Play 50 rounds (or until the strategy player is out of money). Compute the strategy player's winnings. You may remove unnecessary printouts from your code (perhaps implement a verbose/quiet mode) to reduce the output."
   ]
  },
  {
   "cell_type": "markdown",
   "metadata": {},
   "source": [
    "8. Create a loop that runs 100 games of 50 rounds, as setup in previous question, and store the strategy player's chips at the end of the game (aka \"winnings\") in a list. Histogram the winnings. What is the average winnings per round? What is the standard deviation. What is the probabilty of net winning or lossing after 50 rounds?\n"
   ]
  },
  {
   "cell_type": "markdown",
   "metadata": {},
   "source": [
    "9. Repeat previous questions scanning the value of the threshold. Try at least 5 different threshold values. Can you find an optimal value?"
   ]
  },
  {
   "cell_type": "markdown",
   "metadata": {},
   "source": [
    "10. Create a new strategy based on web searches or your own ideas. Demonstrate that the new strategy will result in increased or decreased winnings. "
   ]
  },
  {
   "cell_type": "code",
   "execution_count": 20,
   "metadata": {},
   "outputs": [],
   "source": [
    "import random\n",
    "class Deck:\n",
    "    __suits=['Clubs','Diamonds','Hearts','Spades']\n",
    "    __faces=['Jack','Queen','King','Ace']\n",
    "    def __init__(self,size=1):\n",
    "        self.cards=[(Deck.__suits[s], f if f<=10 else Deck.__faces[f-11]) for s in range(4) for f in range(2,15)]*size\n",
    "        self.used=[]\n",
    "        self.add_plastic()\n",
    "\n",
    "    def shuffle(self):\n",
    "        base=list(self.cards); shuff=[]\n",
    "        while len(base)>0: rand=random.randint(0,len(base)-1); shuff.append(base[rand]); base.remove(base[rand])\n",
    "        self.cards=list(shuff)\n",
    "\n",
    "    def reset(self):\n",
    "        self.cards.extend(self.used)\n",
    "        self.used=[]\n",
    "        self.shuffle()\n",
    "\n",
    "    def draw(self):\n",
    "        if len(self.cards)==0: self.reset()\n",
    "        card=self.cards[0]\n",
    "        if card==('Plastic',0): \n",
    "            self.shuffle()\n",
    "            card=self.cards[0]\n",
    "        self.used.append(card); self.cards.remove(self.cards[0])\n",
    "        return card\n",
    "\n",
    "    def add_plastic(self):\n",
    "        self.cards.append(('Plastic', 0))\n",
    "\n",
    "class Game:\n",
    "    def __init__(self,players):\n",
    "        self.players={str(Player(n+1)): Player(n+1) for n in range(players)}\n",
    "        self.players['Dealer']=Player(0,'Dealer')\n",
    "        self.deck=Deck(6)\n",
    "        self.deck.shuffle()\n",
    "\n",
    "    def start(self):\n",
    "        for player in self.players: \n",
    "            for x in range(2):\n",
    "                if x==0 and player=='Dealer': self.players[player].draw_card(self.deck.draw(), hidden=True)\n",
    "                elif x==1 and player=='Dealer': self.players[player].draw_card(self.deck.draw(), hidden=False, dealer=True)\n",
    "                else: self.players[player].draw_card(self.deck.draw())\n",
    "\n",
    "    def update(self):\n",
    "        for n in range(len(self.players)-1): self.players['Player '+str(n+1)].make_move(self.deck)\n",
    "        self.players['Dealer'].make_move(self.deck)\n",
    "\n",
    "    def winnings(self):\n",
    "        for player in self.players:\n",
    "            if player!='Dealer':\n",
    "                if self.players['Dealer'].points>21 and self.players[player].points!=21:\n",
    "                    self.players[player].bank+=100 if self.players[player].points<21 else -100\n",
    "                if self.players['Dealer'].points<21 and self.players[player].points!=21:\n",
    "                    self.players[player].bank+=100 if self.players[player].points>self.players['Dealer'].points and self.players[player].points<21 \\\n",
    "                    else 0 if self.players[player].points==self.players['Dealer'].points else -100\n",
    "                if self.players[player].points==21 and self.players['Dealer'].points!=21: self.players[player].bank+=150\n",
    "                if self.players['Dealer'].points==21 and self.players[player].points!=21: self.players[player].bank-=100\n",
    "\n",
    "    def run(self):\n",
    "        if len(self.deck.cards)<len(self.players)*4: self.deck.reset()\n",
    "        self.players['Dealer'].reset()\n",
    "        for player in self.players.values(): player.points=0\n",
    "        self.start(); self.update(); self.winnings()\n",
    "\n",
    "    def reset(self):\n",
    "        for player in self.players.values(): player.bank=0\n",
    "        \n",
    "class Player:\n",
    "    countingSum=0\n",
    "    dealerCard=[]\n",
    "    def __init__(self,num,name='Player',strategy=1):\n",
    "        self.num=num\n",
    "        self.name=name\n",
    "        self.hand=[]\n",
    "        self.points=0\n",
    "        self.strategy=strategy\n",
    "        self.bank=1000\n",
    "        self.threshold=-2\n",
    "\n",
    "    def reset(self):\n",
    "        Player.countingSum=0\n",
    "        \n",
    "    def make_move(self,deck):\n",
    "        if self.strategy==1 and self.points<=16: ## Dealer\n",
    "            self.draw_card(deck.draw()); self.make_move(deck)\n",
    "        if self.strategy==2: ## Card Counting\n",
    "            if Player.countingSum<self.threshold and self.points<21: self.draw_card(deck.draw()); self.make_move(deck)\n",
    "        if self.strategy==3: ## Unique \n",
    "            if isinstance(Player.dealerCard[1], int):\n",
    "                if Player.dealerCard[1]>3 and Player.dealerCard[1]<7 and self.points<12: self.draw_card(deck.draw()); self.make_move(deck)\n",
    "                elif Player.dealerCard[1]>1 and Player.dealerCard[1]<4 and self.points<13: self.draw_card(deck.draw()); self.make_move(deck)\n",
    "                elif self.points<17: self.draw_card(deck.draw()); self.make_move(deck)\n",
    "            elif self.points<17: self.draw_card(deck.draw()); self.make_move(deck)\n",
    "                \n",
    "    def draw_card(self, card, hidden=False, dealer=False):\n",
    "        if dealer==True and hidden==False: Player.dealerCard=card\n",
    "        self.hand.append(card)\n",
    "        self.update_points(card)\n",
    "        if not hidden: Player.countingSum += 1 if isinstance(card[1],int) and card[1]<7 else 0 if isinstance(card[1],int) and card[1]<10 else -1\n",
    "    \n",
    "    def update_points(self, card):\n",
    "        if isinstance(card[1],int): self.points+=card[1]\n",
    "        elif card[1]!='Ace': self.points+=10\n",
    "        elif card[1]=='Ace' and self.points+10<=21: self.points+=10\n",
    "        else: self.points+=1\n",
    "\n",
    "    def __repr__(self):\n",
    "        return self.name+' '+str(self.num)"
   ]
  },
  {
   "cell_type": "code",
   "execution_count": 60,
   "metadata": {},
   "outputs": [],
   "source": [
    "import matplotlib.pyplot as plt\n",
    "\n",
    "def simulate(players=4,strategy='CC', threshold=-2):\n",
    "    game=Game(4)\n",
    "    if strategy=='CC': game.players['Player 4'].strategy=2; game.players['Player 4'].threshold=threshold\n",
    "    if strategy=='Unique': game.players['Player 4'].strategy=3\n",
    "    scores=[]\n",
    "    for g in range(100):\n",
    "        for r in range(50): \n",
    "            if game.players['Player 4'].bank>0: game.run()\n",
    "            else: break\n",
    "        scores.append(game.players['Player 4'].bank)\n",
    "        game.reset()\n",
    "    return scores"
   ]
  },
  {
   "cell_type": "markdown",
   "metadata": {},
   "source": [
    "Working game:"
   ]
  },
  {
   "cell_type": "code",
   "execution_count": 61,
   "metadata": {},
   "outputs": [
    {
     "name": "stdout",
     "output_type": "stream",
     "text": [
      "[('Spades', 'Queen'), ('Diamonds', 'King')]\n",
      "20\n"
     ]
    }
   ],
   "source": [
    "# Demonstration of cards in hand and points(hand value)\n",
    "game=Game(4)\n",
    "game.run()\n",
    "print(game.players['Dealer'].hand)\n",
    "print(game.players['Dealer'].points) "
   ]
  },
  {
   "cell_type": "code",
   "execution_count": 59,
   "metadata": {},
   "outputs": [
    {
     "name": "stdout",
     "output_type": "stream",
     "text": [
      "21\n",
      "24\n",
      "18\n",
      "17\n",
      "26\n",
      "\n",
      "1150\n",
      "900\n",
      "1100\n",
      "1100\n",
      "1000\n"
     ]
    }
   ],
   "source": [
    "game=Game(4) # 4 players and a dealer\n",
    "game.run() # Play one round\n",
    "for player in game.players.values(): print(player.points); # prints the value of each player's hand\n",
    "print() # Spacer (ignore)\n",
    "for player in game.players.values(): print(player.bank); # prints the value of each player's bank(chips/money) after the round\n",
    "\n",
    "# The last player score is the dealer\n",
    "# Each player starts with 1000 in the bank\n",
    "# If the player wins the round, their score increases by 100\n",
    "# If the player wins the round with BlackJack (21), their score increases by 150\n",
    "# If the player loses the round, their scores decreases by 100\n",
    "# If the player draws, their score does not change\n",
    "# The round works as if every player bets 100."
   ]
  },
  {
   "cell_type": "markdown",
   "metadata": {},
   "source": [
    "Dealer Strategy:"
   ]
  },
  {
   "cell_type": "code",
   "execution_count": 73,
   "metadata": {},
   "outputs": [
    {
     "data": {
      "image/png": "[encoded data removed]",
      "text/plain": [
       "<Figure size 640x480 with 1 Axes>"
      ]
     },
     "metadata": {},
     "output_type": "display_data"
    }
   ],
   "source": [
    "_=plt.hist(simulate(4, strategy='Dealer'))"
   ]
  },
  {
   "cell_type": "markdown",
   "metadata": {},
   "source": [
    "Card Counting Strategy:"
   ]
  },
  {
   "cell_type": "code",
   "execution_count": 85,
   "metadata": {},
   "outputs": [
    {
     "data": {
      "image/png": "[encoded data removed]",
      "text/plain": [
       "<Figure size 640x480 with 1 Axes>"
      ]
     },
     "metadata": {},
     "output_type": "display_data"
    }
   ],
   "source": [
    "# Threshold of 0\n",
    "_=plt.hist(simulate(4,threshold=0))"
   ]
  },
  {
   "cell_type": "code",
   "execution_count": 91,
   "metadata": {},
   "outputs": [
    {
     "data": {
      "image/png": "[encoded data removed]",
      "text/plain": [
       "<Figure size 640x480 with 1 Axes>"
      ]
     },
     "metadata": {},
     "output_type": "display_data"
    }
   ],
   "source": [
    "# Threshold of -2\n",
    "_=plt.hist(simulate(4,threshold=-2))"
   ]
  },
  {
   "cell_type": "code",
   "execution_count": 92,
   "metadata": {},
   "outputs": [
    {
     "data": {
      "image/png": "[encoded data removed]",
      "text/plain": [
       "<Figure size 640x480 with 1 Axes>"
      ]
     },
     "metadata": {},
     "output_type": "display_data"
    }
   ],
   "source": [
    "# Threshold of -4\n",
    "_=plt.hist(simulate(4,threshold=-4))"
   ]
  },
  {
   "cell_type": "code",
   "execution_count": 95,
   "metadata": {},
   "outputs": [
    {
     "data": {
      "image/png": "[encoded data removed]",
      "text/plain": [
       "<Figure size 640x480 with 1 Axes>"
      ]
     },
     "metadata": {},
     "output_type": "display_data"
    }
   ],
   "source": [
    "# Threshold of -5\n",
    "_=plt.hist(simulate(4,threshold=-5))"
   ]
  },
  {
   "cell_type": "code",
   "execution_count": 100,
   "metadata": {},
   "outputs": [
    {
     "data": {
      "image/png": "[encoded data removed]",
      "text/plain": [
       "<Figure size 640x480 with 1 Axes>"
      ]
     },
     "metadata": {},
     "output_type": "display_data"
    }
   ],
   "source": [
    "# Threshold of -6\n",
    "_=plt.hist(simulate(4,threshold=-6))"
   ]
  },
  {
   "cell_type": "markdown",
   "metadata": {},
   "source": [
    "Unique Strategy:"
   ]
  },
  {
   "cell_type": "code",
   "execution_count": 104,
   "metadata": {},
   "outputs": [
    {
     "data": {
      "image/png": "[encoded data removed]",
      "text/plain": [
       "<Figure size 640x480 with 1 Axes>"
      ]
     },
     "metadata": {},
     "output_type": "display_data"
    }
   ],
   "source": [
    "# Unique Strategy\n",
    "_=plt.hist(simulate(4,strategy='Unique'))"
   ]
  }
 ],
 "metadata": {
  "kernelspec": {
   "display_name": "Python 3 (ipykernel)",
   "language": "python",
   "name": "python3"
  },
  "language_info": {
   "codemirror_mode": {
    "name": "ipython",
    "version": 3
   },
   "file_extension": ".py",
   "mimetype": "text/x-python",
   "name": "python",
   "nbconvert_exporter": "python",
   "pygments_lexer": "ipython3",
   "version": "3.10.12"
  }
 },
 "nbformat": 4,
 "nbformat_minor": 4
}
