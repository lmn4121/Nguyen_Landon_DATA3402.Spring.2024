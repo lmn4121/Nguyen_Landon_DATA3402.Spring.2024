{
 "cells": [
  {
   "cell_type": "code",
   "execution_count": 1,
   "id": "9fe43968-4ae8-4ad2-a5a2-a1a94201f7ec",
   "metadata": {},
   "outputs": [],
   "source": [
    "def create_new_args_0(args):\n",
    "    max_len = max(map(len,\n",
    "                      filter(lambda x: isinstance(x,list),\n",
    "                        args)))\n",
    "\n",
    "    # Rewrite this section:\n",
    "    new_args=list()\n",
    "\n",
    "    for a in args:\n",
    "        if not isinstance(a,list):\n",
    "            a0=[a]*max_len\n",
    "        elif len(a)!=max_len:\n",
    "            print(\"Error: all list arguments must have same length.\")\n",
    "            return\n",
    "        else:\n",
    "            a0=a\n",
    "        new_args.append(a0)\n",
    "\n",
    "    return new_args"
   ]
  },
  {
   "cell_type": "code",
   "execution_count": 2,
   "id": "6824efde-250d-4a71-9ffe-fa2fcdf2b1bc",
   "metadata": {},
   "outputs": [
    {
     "data": {
      "text/plain": [
       "[[1, 2], [3, 4], [5, 5]]"
      ]
     },
     "execution_count": 2,
     "metadata": {},
     "output_type": "execute_result"
    }
   ],
   "source": [
    "create_new_args_0([[1,2],[3,4],5])"
   ]
  },
  {
   "cell_type": "code",
   "execution_count": 202,
   "id": "2deaf398-2284-4628-b32e-0a767118f5d4",
   "metadata": {},
   "outputs": [],
   "source": [
    "def create_new_args(args):\n",
    "    max_len = max(map(len,filter(lambda x: isinstance(x,list),args)))\n",
    "\n",
    "    # Rewritten\n",
    "    \n",
    "    return 'Error: all list arguments must have same length.' if not all(list(map(lambda a: not (isinstance(a,list) and len(a)!=max_len), args))) else list(a if isinstance(a,list) else [a]*max_len for a in args)"
   ]
  },
  {
   "cell_type": "code",
   "execution_count": 203,
   "id": "5c175130-6511-48ca-ba32-db35752455fa",
   "metadata": {},
   "outputs": [
    {
     "data": {
      "text/plain": [
       "[[1, 2], [3, 4], [5, 5]]"
      ]
     },
     "execution_count": 203,
     "metadata": {},
     "output_type": "execute_result"
    }
   ],
   "source": [
    "create_new_args([[1,2],[3,4],5])"
   ]
  },
  {
   "cell_type": "code",
   "execution_count": 108,
   "id": "cd7ecadb-4c56-478f-9d01-34b8ae9dffda",
   "metadata": {},
   "outputs": [
    {
     "data": {
      "text/plain": [
       "[True, True, False]"
      ]
     },
     "execution_count": 108,
     "metadata": {},
     "output_type": "execute_result"
    }
   ],
   "source": [
    "test=[[True],[False],False]\n",
    "list(map(lambda t: isinstance(t,list), test))"
   ]
  }
 ],
 "metadata": {
  "kernelspec": {
   "display_name": "Python 3 (ipykernel)",
   "language": "python",
   "name": "python3"
  },
  "language_info": {
   "codemirror_mode": {
    "name": "ipython",
    "version": 3
   },
   "file_extension": ".py",
   "mimetype": "text/x-python",
   "name": "python",
   "nbconvert_exporter": "python",
   "pygments_lexer": "ipython3",
   "version": "3.10.12"
  }
 },
 "nbformat": 4,
 "nbformat_minor": 5
}
