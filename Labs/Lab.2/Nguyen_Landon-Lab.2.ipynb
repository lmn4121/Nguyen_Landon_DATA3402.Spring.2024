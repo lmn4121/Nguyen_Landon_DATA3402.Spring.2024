{
 "cells": [
  {
   "cell_type": "markdown",
   "metadata": {},
   "source": [
    "## Lab 2- Tic Tac Toe\n",
    "\n",
    "In this lab your will build a n x n Tic Tac Toe game. As you do the exercises, make sure your solutions work for any size Tic Tac Toe game. "
   ]
  },
  {
   "cell_type": "markdown",
   "metadata": {},
   "source": [
    "*Exercise 1:* Write a function that creates an n by n matrix (of list of lists) which will represent the state of a Tie Tac Toe game. Let 0, 1, and 2 represent empty, \"X\", and \"O\", respectively.\n"
   ]
  },
  {
   "cell_type": "code",
   "execution_count": 1,
   "metadata": {},
   "outputs": [],
   "source": [
    "# Write you solution here\n",
    "spaces = {0: \" \", 1: \"X\", 2: \"O\"}\n",
    "def make_board(n):\n",
    "    board=[[0]*n for x in range(n)]\n",
    "    return board"
   ]
  },
  {
   "cell_type": "code",
   "execution_count": 2,
   "metadata": {},
   "outputs": [
    {
     "name": "stdout",
     "output_type": "stream",
     "text": [
      "[[0, 0, 0], [0, 0, 0], [0, 0, 0]]\n",
      "[[1, 0, 0], [0, 0, 2], [0, 0, 0]]\n"
     ]
    }
   ],
   "source": [
    "# Test your solution here\n",
    "board = make_board(3)\n",
    "print(board)\n",
    "board[0][0]=1\n",
    "board[1][2]=2\n",
    "print(board)"
   ]
  },
  {
   "cell_type": "markdown",
   "metadata": {},
   "source": [
    "*Exercise 2:* Write a function that takes 2 integers `n` and `m` as input and draws a `n` by `m` game board. For example the following is a 3x3 board:\n",
    "```\n",
    "   --- --- --- \n",
    "  |   |   |   | \n",
    "   --- --- ---  \n",
    "  |   |   |   | \n",
    "   --- --- ---  \n",
    "  |   |   |   | \n",
    "   --- --- --- \n",
    "   ```"
   ]
  },
  {
   "cell_type": "code",
   "execution_count": 3,
   "metadata": {},
   "outputs": [],
   "source": [
    "# Write you solution here\n",
    "def game_board(n,m):\n",
    "    for x in range(n):\n",
    "        for y in range(m):\n",
    "            print(\" ---\", end='')\n",
    "        print()\n",
    "        for z in range(m+1):\n",
    "                print('|', end='   ')\n",
    "        print()\n",
    "        if x==n-1:\n",
    "            for x in range(m):\n",
    "                print(' ---', end='')"
   ]
  },
  {
   "cell_type": "code",
   "execution_count": 4,
   "metadata": {},
   "outputs": [
    {
     "name": "stdout",
     "output_type": "stream",
     "text": [
      " --- --- ---\n",
      "|   |   |   |   \n",
      " --- --- ---\n",
      "|   |   |   |   \n",
      " --- --- ---\n",
      "|   |   |   |   \n",
      " --- --- ---"
     ]
    }
   ],
   "source": [
    "# Test your solution here\n",
    "game_board(3,3)"
   ]
  },
  {
   "cell_type": "markdown",
   "metadata": {},
   "source": [
    "*Exercise 3:* Modify exercise 2, so that it takes a matrix of the form from exercise 1 and draws a tic-tac-tie board with \"X\"s and \"O\"s.  "
   ]
  },
  {
   "cell_type": "code",
   "execution_count": 5,
   "metadata": {},
   "outputs": [],
   "source": [
    "# Write you solution here\n",
    "def draw_game_board(board):\n",
    "    n=len(board)\n",
    "    m=len(board[0])\n",
    "    for x in range(n):\n",
    "        for y in range(m):\n",
    "            print(\" ---\", end='')\n",
    "        print()\n",
    "        for z in range(m):\n",
    "            print('|', end=' ' + spaces[board[x][z]] + ' ')\n",
    "            if z == len(board)-1:\n",
    "                print('|')\n",
    "        if x==n-1:\n",
    "            for x in range(m):\n",
    "                print(' ---', end='')"
   ]
  },
  {
   "cell_type": "code",
   "execution_count": 6,
   "metadata": {},
   "outputs": [
    {
     "name": "stdout",
     "output_type": "stream",
     "text": [
      " --- --- ---\n",
      "| X |   |   |\n",
      " --- --- ---\n",
      "|   |   | O |\n",
      " --- --- ---\n",
      "|   |   |   |\n",
      " --- --- ---"
     ]
    }
   ],
   "source": [
    "# Test your solution here\n",
    "draw_game_board(board)"
   ]
  },
  {
   "cell_type": "markdown",
   "metadata": {},
   "source": [
    "*Exercise 4:* Write a function that takes a `n` by `n` matrix representing a tic-tac-toe game, and returns -1, 0, 1, or 2 indicating the game is incomplete, the game is a draw, player 1 has won, or player 2 has one, respectively. Here are some example inputs you can use to test your code:"
   ]
  },
  {
   "cell_type": "code",
   "execution_count": 7,
   "metadata": {},
   "outputs": [],
   "source": [
    "# Write you solution here\n",
    "def has_zero(board):\n",
    "    for r in board:\n",
    "        if 0 in r:\n",
    "            return True\n",
    "    return False\n",
    "    \n",
    "def check_rows(board,player,r=0,c=0):\n",
    "    if c==len(board)-1:\n",
    "        return board[r][c]==player\n",
    "    if board[r][c]==player and check_rows(board,player,r,c+1):\n",
    "        return True\n",
    "    elif r!=len(board)-1:\n",
    "        return check_rows(board,player,r+1)\n",
    "    return False\n",
    "    \n",
    "def check_columns(board,player,r=0,c=0):\n",
    "    if r==len(board)-1:\n",
    "        return board[r][c]==player\n",
    "    if board[r][c]==player and check_columns(board,player,r+1,c):\n",
    "        return True\n",
    "    elif c!=len(board)-1:\n",
    "        return check_columns(board,player,c=c+1)\n",
    "    return False\n",
    "\n",
    "def check_diag_1(board, player, r=0):\n",
    "    if r == len(board)-1:\n",
    "        return board[r][r] == player\n",
    "    else:\n",
    "        return board[r][r] == player and check_diag_1(board, player, r+1)\n",
    "        \n",
    "def check_diag_2(board, player, r=0,c=len(board)-1):\n",
    "    if r == len(board)-1:\n",
    "        return board[r][c] == player\n",
    "    else:\n",
    "        return board[r][c] == player and check_diag_2(board, player, r+1, c-1)\n",
    "        \n",
    "\n",
    "def state(board):\n",
    "    for player in (1,2):\n",
    "        if(check_rows(board,player)):\n",
    "            return player\n",
    "        elif(check_columns(board,player)):\n",
    "            return player\n",
    "        elif(check_diag_1(board,player)):\n",
    "            return player\n",
    "        elif(check_diag_2(board,player)):\n",
    "            return player\n",
    "    if(has_zero(board)):\n",
    "        return -1\n",
    "\n",
    "    return 0"
   ]
  },
  {
   "cell_type": "code",
   "execution_count": 10,
   "metadata": {},
   "outputs": [
    {
     "data": {
      "text/plain": [
       "1"
      ]
     },
     "execution_count": 10,
     "metadata": {},
     "output_type": "execute_result"
    }
   ],
   "source": [
    "# Test your solution here\n",
    "state(winner_is_1)"
   ]
  },
  {
   "cell_type": "code",
   "execution_count": 11,
   "metadata": {},
   "outputs": [],
   "source": [
    "winner_is_2 = [[2, 2, 0],\n",
    "\t[2, 1, 0],\n",
    "\t[2, 1, 1]]\n",
    "\n",
    "winner_is_1 = [[1, 2, 0],\n",
    "\t[2, 1, 0],\n",
    "\t[2, 1, 1]]\n",
    "\n",
    "winner_is_also_1 = [[0, 1, 0],\n",
    "\t[2, 1, 0],\n",
    "\t[2, 1, 1]]\n",
    "\n",
    "no_winner = [[1, 2, 0],\n",
    "\t[2, 1, 0],\n",
    "\t[2, 1, 2]]\n",
    "\n",
    "also_no_winner = [[1, 2, 0],\n",
    "\t[2, 1, 0],\n",
    "\t[2, 1, 0]]"
   ]
  },
  {
   "cell_type": "markdown",
   "metadata": {},
   "source": [
    "*Exercise 5:* Write a function that takes a game board, player number, and `(x,y)` coordinates and places \"X\" or \"O\" in the correct location of the game board. Make sure that you only allow filling previously empty locations. Return `True` or `False` to indicate successful placement of \"X\" or \"O\"."
   ]
  },
  {
   "cell_type": "code",
   "execution_count": 12,
   "metadata": {},
   "outputs": [],
   "source": [
    "# Write you solution here\n",
    "def place_mark(board,player,x,y,is_player=True):\n",
    "    if board[x][y]==0:\n",
    "        board[x][y]=player\n",
    "        return True\n",
    "    elif is_player:\n",
    "        print('Cannot place a mark there!')\n",
    "        return False"
   ]
  },
  {
   "cell_type": "code",
   "execution_count": 13,
   "metadata": {},
   "outputs": [
    {
     "data": {
      "text/plain": [
       "True"
      ]
     },
     "execution_count": 13,
     "metadata": {},
     "output_type": "execute_result"
    }
   ],
   "source": [
    "# Test your solution here\n",
    "place_mark(board,1,1,0)"
   ]
  },
  {
   "cell_type": "markdown",
   "metadata": {},
   "source": [
    "*Exercise 6:* Modify Exercise 4 to show column and row labels so that players can specify location using \"A2\" or \"C1\"."
   ]
  },
  {
   "cell_type": "code",
   "execution_count": 14,
   "metadata": {},
   "outputs": [],
   "source": [
    "# Write you solution here\n",
    "def make_row_key(board):\n",
    "    row_names=list(\"ABCDEFGHIJKLMNOPQRSTUVWXYZ\")\n",
    "    row_key=dict(zip(row_names,range(len(board))))\n",
    "    return row_names,row_key\n",
    "\n",
    "def make_col_key(board):\n",
    "    col_nums=list(map(str,(i for i in range(1,len(board)+1))))\n",
    "    col_key=dict(zip(col_nums,range(len(board[0]))))\n",
    "    return col_nums,col_key\n",
    "    \n",
    "def draw_game_board(board):    \n",
    "    row_names,row_key=make_row_key(board)\n",
    "    col_nums,col_key=make_col_key(board)\n",
    "    \n",
    "    n=len(board)\n",
    "    m=len(board[0])\n",
    "    \n",
    "    print('    ',end='')\n",
    "    for i in range(m):\n",
    "        print(col_nums[i],end='   ') ##\n",
    "    print()\n",
    "    \n",
    "    for x in range(m if m>n else n):\n",
    "        print('  ',end='')\n",
    "        for y in range(m if m>n else n):\n",
    "            print(\" ---\", end='')\n",
    "            \n",
    "        print()\n",
    "        print(row_names[x],end=' ') ##\n",
    "        \n",
    "        for z in range(m if m>n else n):\n",
    "            print('|', end=' ' + spaces[board[x][z]] + ' ')\n",
    "            if z == len(board)-1:\n",
    "                print('|')\n",
    "                \n",
    "        if x==len(board)-1:\n",
    "            print('  ',end='')\n",
    "            for x in range(m if m>n else n):\n",
    "                print(' ---', end='')"
   ]
  },
  {
   "cell_type": "code",
   "execution_count": 15,
   "metadata": {},
   "outputs": [
    {
     "name": "stdout",
     "output_type": "stream",
     "text": [
      "    1   2   3   \n",
      "   --- --- ---\n",
      "A | X |   |   |\n",
      "   --- --- ---\n",
      "B | X |   | O |\n",
      "   --- --- ---\n",
      "C |   |   |   |\n",
      "   --- --- ---"
     ]
    }
   ],
   "source": [
    "# Test your solution here\n",
    "draw_game_board(board)"
   ]
  },
  {
   "cell_type": "markdown",
   "metadata": {},
   "source": [
    "*Exercise 7:* Write a function that takes a board, player number, and location specified as in exercise 6 and then calls exercise 5 to correctly modify the board.  "
   ]
  },
  {
   "cell_type": "code",
   "execution_count": 16,
   "metadata": {},
   "outputs": [],
   "source": [
    "# Write you solution here\n",
    "def update_board(board,player,row,col):\n",
    "    row_names,row_key=make_row_key(board)\n",
    "    col_nums,col_key=make_col_key(board)\n",
    "    \n",
    "    r=row_key[row]\n",
    "    c=col_key[col]\n",
    "    return place_mark(board,player,r,c)"
   ]
  },
  {
   "cell_type": "code",
   "execution_count": 17,
   "metadata": {},
   "outputs": [
    {
     "name": "stdout",
     "output_type": "stream",
     "text": [
      "True\n",
      "    1   2   3   \n",
      "   --- --- ---\n",
      "A | X |   |   |\n",
      "   --- --- ---\n",
      "B | X | O | O |\n",
      "   --- --- ---\n",
      "C |   |   |   |\n",
      "   --- --- ---"
     ]
    }
   ],
   "source": [
    "# Test your solution here\n",
    "print(update_board(board,2,'B','2'))\n",
    "draw_game_board(board)"
   ]
  },
  {
   "cell_type": "markdown",
   "metadata": {},
   "source": [
    "*Exercise 8:* Write a function is called with a board and player number, takes input from the player using python's `input`, and modifies the board using your function from exercise 7. Note that you should keep asking for input until you have gotten a valid input that results in a valid move."
   ]
  },
  {
   "cell_type": "code",
   "execution_count": 18,
   "metadata": {},
   "outputs": [],
   "source": [
    "# Write you solution here\n",
    "def validate_location(loc,col_key,row_key):\n",
    "    \n",
    "    if not isinstance(loc,str):\n",
    "        print('Invalid Input. Must be a string.')\n",
    "        return False\n",
    "\n",
    "    if len(loc)!=2:\n",
    "        print('Invalid Input. Must be 2 characters (no spaces).')\n",
    "        return False\n",
    "\n",
    "    row=loc[0].upper()\n",
    "    col=loc[1].upper()\n",
    "    \n",
    "    if row not in row_key:\n",
    "        print('Invalid Row.')\n",
    "        return False\n",
    "\n",
    "    if col not in col_key:\n",
    "        print('Invalid Column.')\n",
    "        return False\n",
    "\n",
    "    return row,col\n",
    "    \n",
    "def player_input(board,player):\n",
    "    row_names,row_key=make_row_key(board)\n",
    "    col_nums,col_key=make_col_key(board)\n",
    "    \n",
    "    valid_input = False\n",
    "    \n",
    "    while not valid_input:\n",
    "        loc=input('Enter Location:')\n",
    "\n",
    "        if validate_location(loc,col_key,row_key)!=False:\n",
    "            row,col=validate_location(loc,col_key,row_key)\n",
    "            valid_input=update_board(board,player,row,col)"
   ]
  },
  {
   "cell_type": "code",
   "execution_count": 19,
   "metadata": {},
   "outputs": [
    {
     "name": "stdout",
     "output_type": "stream",
     "text": [
      "    1   2   3   \n",
      "   --- --- ---\n",
      "A | X |   |   |\n",
      "   --- --- ---\n",
      "B | X | O | O |\n",
      "   --- --- ---\n",
      "C |   |   |   |\n",
      "   --- --- ---"
     ]
    },
    {
     "name": "stdin",
     "output_type": "stream",
     "text": [
      "Enter Location: a2\n"
     ]
    },
    {
     "name": "stdout",
     "output_type": "stream",
     "text": [
      "    1   2   3   \n",
      "   --- --- ---\n",
      "A | X | X |   |\n",
      "   --- --- ---\n",
      "B | X | O | O |\n",
      "   --- --- ---\n",
      "C |   |   |   |\n",
      "   --- --- ---"
     ]
    }
   ],
   "source": [
    "# Test your solution here\n",
    "draw_game_board(board)\n",
    "player_input(board,1)\n",
    "draw_game_board(board)"
   ]
  },
  {
   "cell_type": "markdown",
   "metadata": {},
   "source": [
    "*Exercise 9:* Use all of the previous exercises to implement a full tic-tac-toe game, where an appropriate board is drawn, 2 players are repeatedly asked for a location coordinates of where they wish to place a mark, and the game status is checked until a player wins or a draw occurs."
   ]
  },
  {
   "cell_type": "code",
   "execution_count": 20,
   "metadata": {},
   "outputs": [],
   "source": [
    "# Write you solution here\n",
    "def switch_player(player):\n",
    "    if player==1:\n",
    "        return 2\n",
    "    else:\n",
    "        return 1\n",
    "        \n",
    "def game_runner():\n",
    "    game_state = 3\n",
    "    start = ''\n",
    "    number_of_players=0\n",
    "    \n",
    "    while start!='y' and start!='n':\n",
    "        start=input('Play Game? (y/n)')\n",
    "        if start!='y' and start!='n':\n",
    "            print('Invalid Input: Enter y or n')\n",
    "        \n",
    "    if start=='y':\n",
    "        board = 0\n",
    "        while board==0:\n",
    "            try:\n",
    "                size=int(input('Enter Board Size:'))\n",
    "                board = make_board(size)\n",
    "            except:\n",
    "                print('Must be an positive integer')\n",
    "            \n",
    "        while number_of_players!=1 and number_of_players!=2:\n",
    "            try:\n",
    "                number_of_players=int(input('How many players (1/2)?'))\n",
    "            except:\n",
    "                print('Must be 1 or 2')\n",
    "            if number_of_players!=1 and number_of_players!=2:\n",
    "                print('Invalid Input: Must be 1 or 2')\n",
    "        game_state=-1\n",
    "        depth=(size**2)-1\n",
    "        player=1\n",
    "    elif start=='n':\n",
    "        print('D:')\n",
    "        \n",
    "    while game_state==-1:\n",
    "        if number_of_players==2:\n",
    "            print()\n",
    "            print('Player',player,'Turn:')\n",
    "            draw_game_board(board)\n",
    "            player_input(board,player)\n",
    "        elif number_of_players==1:\n",
    "            if player==1:\n",
    "                print('Your Turn:')\n",
    "                draw_game_board(board)\n",
    "                player_input(board,player)\n",
    "            else:\n",
    "                r,c=pick_move(board,player,depth)\n",
    "                place_mark(board,player,r,c)\n",
    "                depth-=2\n",
    "                \n",
    "        game_state = state(board)\n",
    "        player = switch_player(player)\n",
    "        print()\n",
    "\n",
    "    if game_state!=3:\n",
    "        draw_game_board(board)\n",
    "        print()\n",
    "    if number_of_players==2:\n",
    "        if game_state==1:\n",
    "            print('Player 1 Wins!')\n",
    "        elif game_state==2:\n",
    "            print('Player 2 Wins!')\n",
    "        elif game_state==0:\n",
    "            print(\"It's a draw!\")\n",
    "\n",
    "    if number_of_players==1:\n",
    "        if game_state==1:\n",
    "            print('You Win!')\n",
    "        elif game_state==2:\n",
    "            print('I Win!')\n",
    "        elif game_state==0:\n",
    "            print(\"It's a draw!\")"
   ]
  },
  {
   "cell_type": "code",
   "execution_count": 20,
   "metadata": {
    "scrolled": true
   },
   "outputs": [
    {
     "name": "stdin",
     "output_type": "stream",
     "text": [
      "Play Game? (y/n) y\n",
      "Enter Board Size: 3\n",
      "How many players (1/2)? 2\n"
     ]
    },
    {
     "name": "stdout",
     "output_type": "stream",
     "text": [
      "\n",
      "Player 1 Turn:\n",
      "    1   2   3   \n",
      "   --- --- ---\n",
      "A |   |   |   |\n",
      "   --- --- ---\n",
      "B |   |   |   |\n",
      "   --- --- ---\n",
      "C |   |   |   |\n",
      "   --- --- ---"
     ]
    },
    {
     "name": "stdin",
     "output_type": "stream",
     "text": [
      "Enter Location: a1\n"
     ]
    },
    {
     "name": "stdout",
     "output_type": "stream",
     "text": [
      "\n",
      "\n",
      "Player 2 Turn:\n",
      "    1   2   3   \n",
      "   --- --- ---\n",
      "A | X |   |   |\n",
      "   --- --- ---\n",
      "B |   |   |   |\n",
      "   --- --- ---\n",
      "C |   |   |   |\n",
      "   --- --- ---"
     ]
    },
    {
     "name": "stdin",
     "output_type": "stream",
     "text": [
      "Enter Location: b1\n"
     ]
    },
    {
     "name": "stdout",
     "output_type": "stream",
     "text": [
      "\n",
      "\n",
      "Player 1 Turn:\n",
      "    1   2   3   \n",
      "   --- --- ---\n",
      "A | X |   |   |\n",
      "   --- --- ---\n",
      "B | O |   |   |\n",
      "   --- --- ---\n",
      "C |   |   |   |\n",
      "   --- --- ---"
     ]
    },
    {
     "name": "stdin",
     "output_type": "stream",
     "text": [
      "Enter Location: b1\n"
     ]
    },
    {
     "name": "stdout",
     "output_type": "stream",
     "text": [
      "Cannot place a mark there!\n"
     ]
    },
    {
     "name": "stdin",
     "output_type": "stream",
     "text": [
      "Enter Location: z1\n"
     ]
    },
    {
     "name": "stdout",
     "output_type": "stream",
     "text": [
      "Invalid Row.\n"
     ]
    },
    {
     "name": "stdin",
     "output_type": "stream",
     "text": [
      "Enter Location: b9\n"
     ]
    },
    {
     "name": "stdout",
     "output_type": "stream",
     "text": [
      "Invalid Column.\n"
     ]
    },
    {
     "name": "stdin",
     "output_type": "stream",
     "text": [
      "Enter Location: a2\n"
     ]
    },
    {
     "name": "stdout",
     "output_type": "stream",
     "text": [
      "\n",
      "\n",
      "Player 2 Turn:\n",
      "    1   2   3   \n",
      "   --- --- ---\n",
      "A | X | X |   |\n",
      "   --- --- ---\n",
      "B | O |   |   |\n",
      "   --- --- ---\n",
      "C |   |   |   |\n",
      "   --- --- ---"
     ]
    },
    {
     "name": "stdin",
     "output_type": "stream",
     "text": [
      "Enter Location: b2\n"
     ]
    },
    {
     "name": "stdout",
     "output_type": "stream",
     "text": [
      "\n",
      "\n",
      "Player 1 Turn:\n",
      "    1   2   3   \n",
      "   --- --- ---\n",
      "A | X | X |   |\n",
      "   --- --- ---\n",
      "B | O | O |   |\n",
      "   --- --- ---\n",
      "C |   |   |   |\n",
      "   --- --- ---"
     ]
    },
    {
     "name": "stdin",
     "output_type": "stream",
     "text": [
      "Enter Location: a3\n"
     ]
    },
    {
     "name": "stdout",
     "output_type": "stream",
     "text": [
      "\n",
      "    1   2   3   \n",
      "   --- --- ---\n",
      "A | X | X | X |\n",
      "   --- --- ---\n",
      "B | O | O |   |\n",
      "   --- --- ---\n",
      "C |   |   |   |\n",
      "   --- --- ---\n",
      "Player 1 Wins!\n"
     ]
    }
   ],
   "source": [
    "# Test your solution here\n",
    "game_runner()"
   ]
  },
  {
   "cell_type": "markdown",
   "metadata": {},
   "source": [
    "*Exercise 10:* Test that your game works for 5x5 Tic Tac Toe.  "
   ]
  },
  {
   "cell_type": "code",
   "execution_count": 102,
   "metadata": {},
   "outputs": [
    {
     "name": "stdin",
     "output_type": "stream",
     "text": [
      "Play Game? (y/n) y\n",
      "Enter Board Size: 5\n"
     ]
    },
    {
     "name": "stdout",
     "output_type": "stream",
     "text": [
      "\n",
      "Player 1 turn\n",
      "    1   2   3   4   5   \n",
      "   --- --- --- --- ---\n",
      "A |   |   |   |   |   |\n",
      "   --- --- --- --- ---\n",
      "B |   |   |   |   |   |\n",
      "   --- --- --- --- ---\n",
      "C |   |   |   |   |   |\n",
      "   --- --- --- --- ---\n",
      "D |   |   |   |   |   |\n",
      "   --- --- --- --- ---\n",
      "E |   |   |   |   |   |\n",
      "   --- --- --- --- ---"
     ]
    },
    {
     "name": "stdin",
     "output_type": "stream",
     "text": [
      "Enter Location: e5\n"
     ]
    },
    {
     "name": "stdout",
     "output_type": "stream",
     "text": [
      "\n",
      "\n",
      "Player 2 turn\n",
      "    1   2   3   4   5   \n",
      "   --- --- --- --- ---\n",
      "A |   |   |   |   |   |\n",
      "   --- --- --- --- ---\n",
      "B |   |   |   |   |   |\n",
      "   --- --- --- --- ---\n",
      "C |   |   |   |   |   |\n",
      "   --- --- --- --- ---\n",
      "D |   |   |   |   |   |\n",
      "   --- --- --- --- ---\n",
      "E |   |   |   |   | X |\n",
      "   --- --- --- --- ---"
     ]
    },
    {
     "name": "stdin",
     "output_type": "stream",
     "text": [
      "Enter Location: d5\n"
     ]
    },
    {
     "name": "stdout",
     "output_type": "stream",
     "text": [
      "\n",
      "\n",
      "Player 1 turn\n",
      "    1   2   3   4   5   \n",
      "   --- --- --- --- ---\n",
      "A |   |   |   |   |   |\n",
      "   --- --- --- --- ---\n",
      "B |   |   |   |   |   |\n",
      "   --- --- --- --- ---\n",
      "C |   |   |   |   |   |\n",
      "   --- --- --- --- ---\n",
      "D |   |   |   |   | O |\n",
      "   --- --- --- --- ---\n",
      "E |   |   |   |   | X |\n",
      "   --- --- --- --- ---"
     ]
    },
    {
     "name": "stdin",
     "output_type": "stream",
     "text": [
      "Enter Location: e4\n"
     ]
    },
    {
     "name": "stdout",
     "output_type": "stream",
     "text": [
      "\n",
      "\n",
      "Player 2 turn\n",
      "    1   2   3   4   5   \n",
      "   --- --- --- --- ---\n",
      "A |   |   |   |   |   |\n",
      "   --- --- --- --- ---\n",
      "B |   |   |   |   |   |\n",
      "   --- --- --- --- ---\n",
      "C |   |   |   |   |   |\n",
      "   --- --- --- --- ---\n",
      "D |   |   |   |   | O |\n",
      "   --- --- --- --- ---\n",
      "E |   |   |   | X | X |\n",
      "   --- --- --- --- ---"
     ]
    },
    {
     "name": "stdin",
     "output_type": "stream",
     "text": [
      "Enter Location: d4\n"
     ]
    },
    {
     "name": "stdout",
     "output_type": "stream",
     "text": [
      "\n",
      "\n",
      "Player 1 turn\n",
      "    1   2   3   4   5   \n",
      "   --- --- --- --- ---\n",
      "A |   |   |   |   |   |\n",
      "   --- --- --- --- ---\n",
      "B |   |   |   |   |   |\n",
      "   --- --- --- --- ---\n",
      "C |   |   |   |   |   |\n",
      "   --- --- --- --- ---\n",
      "D |   |   |   | O | O |\n",
      "   --- --- --- --- ---\n",
      "E |   |   |   | X | X |\n",
      "   --- --- --- --- ---"
     ]
    },
    {
     "name": "stdin",
     "output_type": "stream",
     "text": [
      "Enter Location: e3\n"
     ]
    },
    {
     "name": "stdout",
     "output_type": "stream",
     "text": [
      "\n",
      "\n",
      "Player 2 turn\n",
      "    1   2   3   4   5   \n",
      "   --- --- --- --- ---\n",
      "A |   |   |   |   |   |\n",
      "   --- --- --- --- ---\n",
      "B |   |   |   |   |   |\n",
      "   --- --- --- --- ---\n",
      "C |   |   |   |   |   |\n",
      "   --- --- --- --- ---\n",
      "D |   |   |   | O | O |\n",
      "   --- --- --- --- ---\n",
      "E |   |   | X | X | X |\n",
      "   --- --- --- --- ---"
     ]
    },
    {
     "name": "stdin",
     "output_type": "stream",
     "text": [
      "Enter Location: d3\n"
     ]
    },
    {
     "name": "stdout",
     "output_type": "stream",
     "text": [
      "\n",
      "\n",
      "Player 1 turn\n",
      "    1   2   3   4   5   \n",
      "   --- --- --- --- ---\n",
      "A |   |   |   |   |   |\n",
      "   --- --- --- --- ---\n",
      "B |   |   |   |   |   |\n",
      "   --- --- --- --- ---\n",
      "C |   |   |   |   |   |\n",
      "   --- --- --- --- ---\n",
      "D |   |   | O | O | O |\n",
      "   --- --- --- --- ---\n",
      "E |   |   | X | X | X |\n",
      "   --- --- --- --- ---"
     ]
    },
    {
     "name": "stdin",
     "output_type": "stream",
     "text": [
      "Enter Location: e2\n"
     ]
    },
    {
     "name": "stdout",
     "output_type": "stream",
     "text": [
      "\n",
      "\n",
      "Player 2 turn\n",
      "    1   2   3   4   5   \n",
      "   --- --- --- --- ---\n",
      "A |   |   |   |   |   |\n",
      "   --- --- --- --- ---\n",
      "B |   |   |   |   |   |\n",
      "   --- --- --- --- ---\n",
      "C |   |   |   |   |   |\n",
      "   --- --- --- --- ---\n",
      "D |   |   | O | O | O |\n",
      "   --- --- --- --- ---\n",
      "E |   | X | X | X | X |\n",
      "   --- --- --- --- ---"
     ]
    },
    {
     "name": "stdin",
     "output_type": "stream",
     "text": [
      "Enter Location: d2\n"
     ]
    },
    {
     "name": "stdout",
     "output_type": "stream",
     "text": [
      "\n",
      "\n",
      "Player 1 turn\n",
      "    1   2   3   4   5   \n",
      "   --- --- --- --- ---\n",
      "A |   |   |   |   |   |\n",
      "   --- --- --- --- ---\n",
      "B |   |   |   |   |   |\n",
      "   --- --- --- --- ---\n",
      "C |   |   |   |   |   |\n",
      "   --- --- --- --- ---\n",
      "D |   | O | O | O | O |\n",
      "   --- --- --- --- ---\n",
      "E |   | X | X | X | X |\n",
      "   --- --- --- --- ---"
     ]
    },
    {
     "name": "stdin",
     "output_type": "stream",
     "text": [
      "Enter Location: e1\n"
     ]
    },
    {
     "name": "stdout",
     "output_type": "stream",
     "text": [
      "\n",
      "    1   2   3   4   5   \n",
      "   --- --- --- --- ---\n",
      "A |   |   |   |   |   |\n",
      "   --- --- --- --- ---\n",
      "B |   |   |   |   |   |\n",
      "   --- --- --- --- ---\n",
      "C |   |   |   |   |   |\n",
      "   --- --- --- --- ---\n",
      "D |   | O | O | O | O |\n",
      "   --- --- --- --- ---\n",
      "E | X | X | X | X | X |\n",
      "   --- --- --- --- ---\n",
      "Player 1 Wins!\n"
     ]
    }
   ],
   "source": [
    "# Test your solution here\n",
    "game_runner()"
   ]
  },
  {
   "cell_type": "markdown",
   "metadata": {},
   "source": [
    "*Exercise 11:* (Advanced / Challenge) Develop a version of the game where one player is the computer. Note that you don't need to do an extensive seach for the best move. You can have the computer simply protect against loosing and otherwise try to win with straight or diagonal patterns."
   ]
  },
  {
   "cell_type": "code",
   "execution_count": 22,
   "metadata": {},
   "outputs": [],
   "source": [
    "def score_rows(board,player):\n",
    "    count=0\n",
    "    score=0\n",
    "    \n",
    "    for r in range(len(board)):\n",
    "        for c in range(len(board)):\n",
    "            if board[r][c]==switch_player(player):\n",
    "                count=0\n",
    "                score-=1\n",
    "                break\n",
    "            if board[r][c]==player:\n",
    "                count+=1\n",
    "            if count==3:\n",
    "                score+=15\n",
    "                if player==2:\n",
    "                    score+=7\n",
    "        count=0\n",
    "        \n",
    "    return score\n",
    "\n",
    "def score_cols(board,player):\n",
    "    count=0\n",
    "    score=0\n",
    "    \n",
    "    for r in range(len(board)):\n",
    "        for c in range(len(board)):\n",
    "            if board[c][r]==switch_player(player):\n",
    "                count=0\n",
    "                score-=1\n",
    "                break\n",
    "            if board[c][r]==player:\n",
    "                count+=1\n",
    "            if count==3:\n",
    "                score+=15\n",
    "                if player==2:\n",
    "                    score+=7\n",
    "        count=0\n",
    "\n",
    "    return score\n",
    "\n",
    "def score_diag_1(board,player):\n",
    "    count=0\n",
    "    score=0\n",
    "    \n",
    "    for r in range(len(board)):\n",
    "        if board[r][r]==switch_player(player):\n",
    "            count=0\n",
    "            score-=1\n",
    "            break\n",
    "        if board[r][r]==player:\n",
    "            count+=1\n",
    "        if count==3:\n",
    "            score+=5\n",
    "            if player==2:\n",
    "                score+=1\n",
    "            \n",
    "    return score\n",
    "\n",
    "def score_diag_2(board,player):\n",
    "    count=0\n",
    "    score=0\n",
    "\n",
    "    for r in range(len(board)):\n",
    "        if board[r][-(r+1)]==switch_player(player):\n",
    "            count=0\n",
    "            score-=1\n",
    "            break\n",
    "        if board[r][-(r+1)]==player:\n",
    "            count+=1\n",
    "        if count==3:\n",
    "            score+=5\n",
    "            if player==2:\n",
    "                score+=1\n",
    "    return score\n",
    "\n",
    "def get_score(board,player):\n",
    "    return score_rows(board,player)+score_cols(board,player)+score_diag_1(board,player)+score_diag_2(board,player)\n",
    "def score_board(board,player=2):\n",
    "    ret=get_score(board,player)-get_score(board,switch_player(player))\n",
    "    return ret\n",
    "\n",
    "import copy\n",
    "\n",
    "def generate_moves(board,player,current_player,depth):\n",
    "    if depth==0:\n",
    "        return list(),score_board(board)\n",
    "\n",
    "    moves=list()\n",
    "    scores=list()\n",
    "    \n",
    "    for i in range(len(board)):\n",
    "        for j in range(len(board)):\n",
    "\n",
    "            test_board = copy.deepcopy(board)\n",
    "            if place_mark(test_board,current_player,i,j,is_player=False):\n",
    "                next_moves,score=generate_moves(test_board,player,switch_player(current_player),depth-1)\n",
    "\n",
    "                this_move=[current_player,(i,j)]\n",
    "                this_move.extend(next_moves)\n",
    "                moves.append(this_move)\n",
    "                scores.append(score)\n",
    "\n",
    "    return moves,scores\n",
    "\n",
    "def tree_search(t,depth=1):\n",
    "    if isinstance(t[0],list):\n",
    "        return sum([tree_search(item,depth+1)/depth for item in t])\n",
    "    else:\n",
    "        return max(t)+min(t)\n",
    "\n",
    "def pick_move(board,player,depth=2,func=max):\n",
    "    moves,scores=generate_moves(board,player,player,depth)\n",
    "    result=list(map(tree_search,scores))\n",
    "    move_index=result.index(func(result))\n",
    "    return moves[move_index][1]"
   ]
  },
  {
   "cell_type": "code",
   "execution_count": 25,
   "metadata": {},
   "outputs": [
    {
     "name": "stdin",
     "output_type": "stream",
     "text": [
      "Play Game? (y/n) y\n",
      "Enter Board Size: 3\n",
      "How many players (1/2)? 1\n"
     ]
    },
    {
     "name": "stdout",
     "output_type": "stream",
     "text": [
      "Your Turn:\n",
      "    1   2   3   \n",
      "   --- --- ---\n",
      "A |   |   |   |\n",
      "   --- --- ---\n",
      "B |   |   |   |\n",
      "   --- --- ---\n",
      "C |   |   |   |\n",
      "   --- --- ---"
     ]
    },
    {
     "name": "stdin",
     "output_type": "stream",
     "text": [
      "Enter Location: a3\n"
     ]
    },
    {
     "name": "stdout",
     "output_type": "stream",
     "text": [
      "\n",
      "\n",
      "Your Turn:\n",
      "    1   2   3   \n",
      "   --- --- ---\n",
      "A |   |   | X |\n",
      "   --- --- ---\n",
      "B |   | O |   |\n",
      "   --- --- ---\n",
      "C |   |   |   |\n",
      "   --- --- ---"
     ]
    },
    {
     "name": "stdin",
     "output_type": "stream",
     "text": [
      "Enter Location: c1\n"
     ]
    },
    {
     "name": "stdout",
     "output_type": "stream",
     "text": [
      "\n",
      "\n",
      "Your Turn:\n",
      "    1   2   3   \n",
      "   --- --- ---\n",
      "A |   |   | X |\n",
      "   --- --- ---\n",
      "B | O | O |   |\n",
      "   --- --- ---\n",
      "C | X |   |   |\n",
      "   --- --- ---"
     ]
    },
    {
     "name": "stdin",
     "output_type": "stream",
     "text": [
      "Enter Location: c2\n"
     ]
    },
    {
     "name": "stdout",
     "output_type": "stream",
     "text": [
      "\n",
      "\n",
      "    1   2   3   \n",
      "   --- --- ---\n",
      "A |   |   | X |\n",
      "   --- --- ---\n",
      "B | O | O | O |\n",
      "   --- --- ---\n",
      "C | X | X |   |\n",
      "   --- --- ---\n",
      "I Win!\n"
     ]
    }
   ],
   "source": [
    "# Test your solution here\n",
    "game_runner()\n",
    "\n",
    "# Note: The First response will be slightly delayed. \n",
    "# Note: The depth starts at n^2-1 (8 on a 3x3 board) and progressively decreases as the number of spaces decreases. "
   ]
  },
  {
   "cell_type": "code",
   "execution_count": null,
   "metadata": {},
   "outputs": [],
   "source": []
  }
 ],
 "metadata": {
  "kernelspec": {
   "display_name": "Python 3 (ipykernel)",
   "language": "python",
   "name": "python3"
  },
  "language_info": {
   "codemirror_mode": {
    "name": "ipython",
    "version": 3
   },
   "file_extension": ".py",
   "mimetype": "text/x-python",
   "name": "python",
   "nbconvert_exporter": "python",
   "pygments_lexer": "ipython3",
   "version": "3.10.12"
  }
 },
 "nbformat": 4,
 "nbformat_minor": 4
}
